{
 "cells": [
  {
   "cell_type": "code",
   "execution_count": 1,
   "metadata": {},
   "outputs": [
    {
     "name": "stdout",
     "output_type": "stream",
     "text": [
      "Welcome to JupyROOT 6.16/00\n"
     ]
    }
   ],
   "source": [
    "import math\n",
    "import os\n",
    "\n",
    "import joblib\n",
    "import matplotlib.pyplot as plt\n",
    "import numpy as np\n",
    "import pandas as pd\n",
    "import ROOT\n",
    "\n",
    "ROOT.ROOT.EnableThreadSafety()"
   ]
  },
  {
   "cell_type": "code",
   "execution_count": 2,
   "metadata": {},
   "outputs": [],
   "source": [
    "def simulation(distance, doubleplane, energy, physics, n_events, air, overwrite):\n",
    "    outfile = f\"output/{distance}m_{doubleplane}dp_{energy}AMeV_1n_{physics}.simu-traj-{'air' if air else 'vacuum'}.root\"\n",
    "    parfile = f\"output/{distance}m_{doubleplane}dp_{energy}AMeV_1n_{physics}.para-traj-{'air' if air else 'vacuum'}.root\"\n",
    "\n",
    "    if os.path.isfile(outfile) or os.path.isfile(parfile):\n",
    "        if overwrite:\n",
    "            for f in [outfile, parfile]:\n",
    "                if os.path.exists(f):\n",
    "                    os.remove(f)\n",
    "        else:\n",
    "            print(f\"Output {outfile} exists and overwriting is disabled\")\n",
    "            return\n",
    "\n",
    "    ROOT.ROOT.EnableThreadSafety()\n",
    "    ROOT.FairLogger.GetLogger().SetLogVerbosityLevel(\"LOW\")\n",
    "    ROOT.FairLogger.GetLogger().SetLogScreenLevel(\"ERROR\")\n",
    "\n",
    "    vmcworkdir = os.environ[\"VMCWORKDIR\"]\n",
    "    os.environ[\"GEOMPATH\"] = vmcworkdir + \"/geometry\"\n",
    "    os.environ[\"CONFIG_DIR\"] = vmcworkdir + \"/gconfig\"\n",
    "    os.environ[\"PHYSICSLIST\"] = f\"QGSP_{physics.upper()}_HP\"\n",
    "\n",
    "    # Initialize Simulation\n",
    "    run = ROOT.FairRunSim()\n",
    "    run.SetName(\"TGeant4\")\n",
    "    run.SetStoreTraj(True)\n",
    "    run.SetMaterials(\"media_r3b.geo\")\n",
    "\n",
    "    # Output\n",
    "    run.SetSink(ROOT.FairRootFileSink(outfile))\n",
    "\n",
    "    # Primary Generator\n",
    "    generator = ROOT.FairPrimaryGenerator()\n",
    "    box_gen = ROOT.FairBoxGenerator(2112)\n",
    "    box_gen.SetThetaRange(0.0, 1.0)\n",
    "    box_gen.SetPhiRange(0.0, 360.0)\n",
    "    box_gen.SetEkinRange(energy / 1000.0, energy / 1000.0)\n",
    "    box_gen.SetXYZ(0.0, 0.0, 0.0)\n",
    "    generator.AddGenerator(box_gen)\n",
    "    run.SetGenerator(generator)\n",
    "\n",
    "    # Geometry\n",
    "    cave = ROOT.R3BCave(\"Cave\")\n",
    "    if air:\n",
    "        cave.SetGeometryFileName(\"r3b_cave.geo\")\n",
    "    else:\n",
    "        cave.SetGeometryFileName(\"r3b_cave_vacuum.geo\")\n",
    "    run.AddModule(cave)\n",
    "\n",
    "    neuland_position = ROOT.TGeoTranslation(0.0, 0.0, distance * 100 + doubleplane * 10.0 / 2.0)\n",
    "    neuland = ROOT.R3BNeuland(doubleplane, neuland_position)\n",
    "    run.AddModule(neuland)\n",
    "\n",
    "    # Prepare to run\n",
    "    run.Init()\n",
    "    ROOT.TVirtualMC.GetMC().SetRandom(ROOT.TRandom3(1337))\n",
    "    ROOT.TVirtualMC.GetMC().SetMaxNStep(100000)\n",
    "\n",
    "    # Runtime Database\n",
    "    rtdb = run.GetRuntimeDb()\n",
    "    parout = ROOT.FairParRootFileIo(True)\n",
    "    parout.open(parfile)\n",
    "    rtdb.setOutput(parout)\n",
    "    rtdb.saveOutput()\n",
    "\n",
    "    # Run\n",
    "    run.Run(n_events)"
   ]
  },
  {
   "cell_type": "code",
   "execution_count": 3,
   "metadata": {},
   "outputs": [],
   "source": [
    "distance = 15\n",
    "doubleplane = 30\n",
    "energy = 600\n",
    "physics = \"inclxx\"\n",
    "n_events = 1000\n",
    "air = False"
   ]
  },
  {
   "cell_type": "code",
   "execution_count": null,
   "metadata": {},
   "outputs": [],
   "source": [
    "# Note: Can't handle two simulations back-to-back. Restart Kernel.\n",
    "simulation(distance, doubleplane, energy, physics, n_events, air, overwrite=True)"
   ]
  },
  {
   "cell_type": "code",
   "execution_count": 5,
   "metadata": {},
   "outputs": [],
   "source": [
    "def get_point_angle(point):\n",
    "    try:\n",
    "        return round(math.degrees(math.atan(math.sqrt(point[0] ** 2 + point[1] ** 2) / point[2])), 3)\n",
    "    except:\n",
    "        return 0"
   ]
  },
  {
   "cell_type": "code",
   "execution_count": 6,
   "metadata": {},
   "outputs": [],
   "source": [
    "def print_point(i_point, point):\n",
    "    print(\n",
    "        i_point,\n",
    "        round(point[0], 2),\n",
    "        round(point[1], 2),\n",
    "        round(point[2], 2),\n",
    "        get_point_angle(point),\n",
    "    )"
   ]
  },
  {
   "cell_type": "code",
   "execution_count": 7,
   "metadata": {},
   "outputs": [],
   "source": [
    "simufile = f\"output/{distance}m_{doubleplane}dp_{energy}AMeV_1n_{physics}.simu-traj-{'air' if air else 'vacuum'}.root\"\n",
    "tfile = ROOT.TFile.Open(simufile)\n",
    "ttree = tfile.evt"
   ]
  },
  {
   "cell_type": "code",
   "execution_count": 8,
   "metadata": {},
   "outputs": [
    {
     "name": "stdout",
     "output_type": "stream",
     "text": [
      "Angle change: 295 0.615 1.826 -> 1.211\n",
      "-----\n",
      "210 -19.3 0.01 1798.84 0.615\n",
      "211 -19.31 -0.05 1799.9 0.615\n",
      "212 -19.34 -0.63 1809.95 0.613\n",
      "213 -19.37 -1.21 1819.94 0.611\n",
      "214 -19.4 -1.78 1829.92 0.61\n",
      "215 -19.44 -2.36 1839.9 0.61\n",
      "222 -19.66 -6.39 1909.79 0.62\n",
      "232 -19.98 -12.14 2009.62 0.667\n",
      "\n",
      "\n"
     ]
    },
    {
     "data": {
      "image/png": "[encoded data removed]",
      "text/plain": [
       "<Figure size 448.128x276.964 with 1 Axes>"
      ]
     },
     "metadata": {},
     "output_type": "display_data"
    },
    {
     "name": "stdout",
     "output_type": "stream",
     "text": [
      "Angle change: 322 0.272 0.724 -> 0.452\n",
      "-----\n",
      "169 7.59 -0.02 1595.03 0.272\n",
      "170 7.59 -0.02 1595.61 0.272\n",
      "171 7.52 -0.1 1599.9 0.269\n",
      "172 7.45 -0.19 1604.9 0.266\n",
      "173 7.37 -0.28 1609.9 0.263\n",
      "174 7.3 -0.37 1614.9 0.259\n",
      "181 6.78 -0.99 1649.9 0.238\n",
      "191 6.03 -1.88 1699.9 0.213\n",
      "\n",
      "\n"
     ]
    },
    {
     "data": {
      "image/png": "[encoded data removed]",
      "text/plain": [
       "<Figure size 448.128x276.964 with 1 Axes>"
      ]
     },
     "metadata": {},
     "output_type": "display_data"
    },
    {
     "name": "stdout",
     "output_type": "stream",
     "text": [
      "Angle change: 438 0.411 1.728 -> 1.317\n",
      "-----\n",
      "204 9.37 8.58 1769.9 0.411\n",
      "205 9.38 8.59 1771.36 0.411\n",
      "206 9.19 8.48 1774.9 0.404\n",
      "207 8.92 8.34 1779.9 0.393\n",
      "208 8.66 8.19 1784.9 0.383\n",
      "209 8.39 8.04 1789.9 0.372\n",
      "216 5.19 6.29 1849.88 0.253\n",
      "226 -0.14 3.38 1949.69 0.1\n",
      "\n",
      "\n"
     ]
    },
    {
     "data": {
      "image/png": "[encoded data removed]",
      "text/plain": [
       "<Figure size 448.128x276.964 with 1 Axes>"
      ]
     },
     "metadata": {},
     "output_type": "display_data"
    },
    {
     "name": "stdout",
     "output_type": "stream",
     "text": [
      "Angle change: 474 0.043 3.075 -> 3.032\n",
      "-----\n",
      "208 0.0 -1.35 1790.03 0.043\n",
      "209 0.0 -1.35 1790.7 0.043\n",
      "210 -0.02 -1.24 1792.39 0.039\n",
      "211 0.0 -0.99 1794.9 0.031\n",
      "212 0.03 -0.74 1797.4 0.024\n",
      "213 0.06 -0.48 1799.97 0.016\n",
      "220 0.78 6.41 1869.63 0.198\n",
      "230 1.82 16.27 1969.13 0.476\n",
      "\n",
      "\n"
     ]
    },
    {
     "data": {
      "image/png": "[encoded data removed]",
      "text/plain": [
       "<Figure size 448.128x276.964 with 1 Axes>"
      ]
     },
     "metadata": {},
     "output_type": "display_data"
    },
    {
     "name": "stdout",
     "output_type": "stream",
     "text": [
      "Angle change: 739 0.591 0.619 -> 0.028\n",
      "-----\n",
      "179 16.74 2.48 1639.9 0.591\n",
      "180 16.75 2.48 1640.82 0.591\n",
      "181 16.67 2.53 1644.9 0.587\n",
      "182 16.57 2.6 1649.9 0.583\n",
      "183 16.48 2.67 1654.9 0.578\n",
      "184 16.38 2.73 1659.9 0.573\n",
      "191 15.71 3.19 1694.9 0.542\n",
      "201 14.94 3.72 1734.9 0.508\n",
      "\n",
      "\n"
     ]
    },
    {
     "data": {
      "image/png": "[encoded data removed]",
      "text/plain": [
       "<Figure size 448.128x276.964 with 1 Axes>"
      ]
     },
     "metadata": {},
     "output_type": "display_data"
    },
    {
     "name": "stdout",
     "output_type": "stream",
     "text": [
      "Angle change: 886 0.302 1.296 -> 0.994\n",
      "-----\n",
      "190 -7.48 4.91 1699.9 0.302\n",
      "191 -7.49 4.92 1701.73 0.302\n",
      "192 -7.47 4.9 1702.25 0.301\n",
      "193 -7.4 4.81 1704.9 0.297\n",
      "194 -7.25 4.65 1709.9 0.289\n",
      "195 -7.11 4.48 1714.9 0.281\n",
      "202 -6.1 3.33 1749.9 0.227\n",
      "212 -4.94 2.0 1789.97 0.171\n",
      "\n",
      "\n"
     ]
    },
    {
     "data": {
      "image/png": "[encoded data removed]",
      "text/plain": [
       "<Figure size 448.128x276.964 with 1 Axes>"
      ]
     },
     "metadata": {},
     "output_type": "display_data"
    }
   ],
   "source": [
    "i_event = -1\n",
    "\n",
    "where_angle_change = []\n",
    "events_without_secondaries = 0\n",
    "\n",
    "for event in ttree:\n",
    "    i_event += 1\n",
    "    if event.MCTrack.GetEntries() == 1:\n",
    "        events_without_secondaries += 1\n",
    "        track = event.GeoTracks[0]\n",
    "        n_points = track.GetNpoints()\n",
    "\n",
    "        start_angle = get_point_angle(track.GetPoint(10))\n",
    "        end_angle = get_point_angle(track.GetPoint(n_points - 10))\n",
    "        angle_diff = round(abs(start_angle - end_angle), 3)\n",
    "\n",
    "        if angle_diff > 0:\n",
    "            print(\"Angle change:\", i_event, start_angle, end_angle, \"->\", angle_diff)\n",
    "            print(\"-----\")\n",
    "            for i_point in range(10, n_points - 10):\n",
    "                point = track.GetPoint(i_point)\n",
    "                curr_angle = get_point_angle(point)\n",
    "                curr_angle_diff = round(abs(start_angle - curr_angle), 3)\n",
    "\n",
    "                if curr_angle_diff > 0:\n",
    "                    where_angle_change.append(\n",
    "                        (\n",
    "                            i_event,\n",
    "                            round(point[0], 3),\n",
    "                            round(point[1], 3),\n",
    "                            round(point[2], 3),\n",
    "                            round(point[3], 3),\n",
    "                        )\n",
    "                    )\n",
    "                    for i in [\n",
    "                        i_point - 2,\n",
    "                        i_point - 1,\n",
    "                        i_point,\n",
    "                        i_point + 1,\n",
    "                        i_point + 2,\n",
    "                        i_point + 3,\n",
    "                        i_point + 10,\n",
    "                        i_point + 20,\n",
    "                    ]:\n",
    "                        print_point(i, track.GetPoint(i))\n",
    "                    print(\"\")\n",
    "                    print(\"\")\n",
    "                    break\n",
    "\n",
    "            xs = []\n",
    "            zs = []\n",
    "            ds = []\n",
    "\n",
    "            for i_point in range(1, n_points):\n",
    "                point = track.GetPoint(i_point)\n",
    "                ds.append(round(abs(start_angle - get_point_angle(point)), 3))\n",
    "                xs.append(round(point[0], 3))\n",
    "                zs.append(round(point[2], 3))\n",
    "\n",
    "            fig = plt.figure(figsize=(6.224, 6.224 / 1.618))\n",
    "            ax = fig.add_subplot(111)\n",
    "            ax.scatter(zs, xs)\n",
    "            ax.set_xlim(0, 4000)\n",
    "            ax.set_ylim(-200, 200)\n",
    "            display(fig)\n",
    "            plt.close()"
   ]
  },
  {
   "cell_type": "code",
   "execution_count": 9,
   "metadata": {},
   "outputs": [
    {
     "name": "stdout",
     "output_type": "stream",
     "text": [
      "Events without secondaries:    0.9 %\n",
      "... of which w/ angle change:  0.6 %\n",
      "angle changes not in the detector: 0\n"
     ]
    },
    {
     "data": {
      "text/html": [
       "<div>\n",
       "<style scoped>\n",
       "    .dataframe tbody tr th:only-of-type {\n",
       "        vertical-align: middle;\n",
       "    }\n",
       "\n",
       "    .dataframe tbody tr th {\n",
       "        vertical-align: top;\n",
       "    }\n",
       "\n",
       "    .dataframe thead th {\n",
       "        text-align: right;\n",
       "    }\n",
       "</style>\n",
       "<table border=\"1\" class=\"dataframe\">\n",
       "  <thead>\n",
       "    <tr style=\"text-align: right;\">\n",
       "      <th></th>\n",
       "      <th>Track</th>\n",
       "      <th>X</th>\n",
       "      <th>Y</th>\n",
       "      <th>Z</th>\n",
       "      <th>T</th>\n",
       "    </tr>\n",
       "  </thead>\n",
       "  <tbody>\n",
       "    <tr>\n",
       "      <th>0</th>\n",
       "      <td>295</td>\n",
       "      <td>-19.340</td>\n",
       "      <td>-0.630</td>\n",
       "      <td>1809.953</td>\n",
       "      <td>0.0</td>\n",
       "    </tr>\n",
       "    <tr>\n",
       "      <th>1</th>\n",
       "      <td>322</td>\n",
       "      <td>7.524</td>\n",
       "      <td>-0.100</td>\n",
       "      <td>1599.900</td>\n",
       "      <td>0.0</td>\n",
       "    </tr>\n",
       "    <tr>\n",
       "      <th>2</th>\n",
       "      <td>438</td>\n",
       "      <td>9.192</td>\n",
       "      <td>8.482</td>\n",
       "      <td>1774.900</td>\n",
       "      <td>0.0</td>\n",
       "    </tr>\n",
       "    <tr>\n",
       "      <th>3</th>\n",
       "      <td>474</td>\n",
       "      <td>-0.022</td>\n",
       "      <td>-1.235</td>\n",
       "      <td>1792.386</td>\n",
       "      <td>0.0</td>\n",
       "    </tr>\n",
       "    <tr>\n",
       "      <th>4</th>\n",
       "      <td>739</td>\n",
       "      <td>16.670</td>\n",
       "      <td>2.534</td>\n",
       "      <td>1644.900</td>\n",
       "      <td>0.0</td>\n",
       "    </tr>\n",
       "    <tr>\n",
       "      <th>5</th>\n",
       "      <td>886</td>\n",
       "      <td>-7.472</td>\n",
       "      <td>4.900</td>\n",
       "      <td>1702.247</td>\n",
       "      <td>0.0</td>\n",
       "    </tr>\n",
       "  </tbody>\n",
       "</table>\n",
       "</div>"
      ],
      "text/plain": [
       "   Track       X      Y         Z    T\n",
       "0    295 -19.340 -0.630  1809.953  0.0\n",
       "1    322   7.524 -0.100  1599.900  0.0\n",
       "2    438   9.192  8.482  1774.900  0.0\n",
       "3    474  -0.022 -1.235  1792.386  0.0\n",
       "4    739  16.670  2.534  1644.900  0.0\n",
       "5    886  -7.472  4.900  1702.247  0.0"
      ]
     },
     "metadata": {},
     "output_type": "display_data"
    }
   ],
   "source": [
    "print(\"Events without secondaries:   \", round(events_without_secondaries / n_events * 100, 2), \"%\")\n",
    "df = pd.DataFrame(where_angle_change, columns=[\"Track\", \"X\", \"Y\", \"Z\", \"T\"])\n",
    "print(\"... of which w/ angle change: \", round(df.shape[0] / n_events * 100, 3), \"%\")\n",
    "print(\"angle changes not in the detector:\", df[df[\"Z\"] < distance * 100].shape[0])\n",
    "\n",
    "display(df)"
   ]
  },
  {
   "cell_type": "code",
   "execution_count": 10,
   "metadata": {},
   "outputs": [],
   "source": [
    "i_event = -1\n",
    "for event in ttree:\n",
    "    i_event += 1\n",
    "\n",
    "    if i_event > 1000:\n",
    "        break\n",
    "\n",
    "    reaction_in_air = False\n",
    "    for i_track, mctrack in enumerate(event.MCTrack):\n",
    "        if mctrack.GetMotherId() == 0 and mctrack.GetStartZ() < distance * 100:\n",
    "            reaction_in_air = True\n",
    "            print(i_event, mctrack.GetStartZ())\n",
    "            break\n",
    "\n",
    "    if reaction_in_air:\n",
    "        xs = []\n",
    "        zs = []\n",
    "\n",
    "        for track in event.GeoTracks:\n",
    "            for i_point in range(0, track.GetNpoints()):\n",
    "                point = track.GetPoint(i_point)\n",
    "                xs.append(round(point[0], 3))\n",
    "                zs.append(round(point[2], 3))\n",
    "\n",
    "        fig = plt.figure(figsize=(6.224, 6.224 / 1.618))\n",
    "        ax = fig.add_subplot(111)\n",
    "        ax.scatter(zs, xs)\n",
    "        ax.set_xlim(0, distance * 100)\n",
    "        ax.set_ylim(-200, 200)\n",
    "        display(fig)\n",
    "        plt.close()"
   ]
  },
  {
   "cell_type": "code",
   "execution_count": null,
   "metadata": {},
   "outputs": [],
   "source": []
  }
 ],
 "metadata": {
  "kernelspec": {
   "display_name": "Python 3",
   "language": "python",
   "name": "python3"
  },
  "language_info": {
   "codemirror_mode": {
    "name": "ipython",
    "version": 3
   },
   "file_extension": ".py",
   "mimetype": "text/x-python",
   "name": "python",
   "nbconvert_exporter": "python",
   "pygments_lexer": "ipython3",
   "version": "3.7.6"
  }
 },
 "nbformat": 4,
 "nbformat_minor": 4
}
