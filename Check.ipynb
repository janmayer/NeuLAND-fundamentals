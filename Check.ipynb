{
 "cells": [
  {
   "cell_type": "markdown",
   "metadata": {},
   "source": [
    "# Check for successful execution"
   ]
  },
  {
   "cell_type": "code",
   "execution_count": 1,
   "metadata": {},
   "outputs": [],
   "source": [
    "distances = [15, 35]\n",
    "doubleplanes = [12, 30]\n",
    "energies = [200, 600, 1000]\n",
    "neutrons = [1]\n",
    "physicss = [\"bert\", \"bic\", \"inclxx\"]"
   ]
  },
  {
   "cell_type": "code",
   "execution_count": 2,
   "metadata": {},
   "outputs": [
    {
     "name": "stdout",
     "output_type": "stream",
     "text": [
      "Welcome to JupyROOT 6.16/00\n"
     ]
    }
   ],
   "source": [
    "import pandas as pd\n",
    "import numpy as np\n",
    "import joblib\n",
    "import os\n",
    "import ROOT\n",
    "\n",
    "ROOT.ROOT.EnableThreadSafety()"
   ]
  },
  {
   "cell_type": "code",
   "execution_count": 3,
   "metadata": {},
   "outputs": [],
   "source": [
    "def processed_events(distance, doubleplane, energy, neutron, physics, step):\n",
    "    filename = f\"output/{distance}m_{doubleplane}dp_{energy}AMeV_{neutron}n_{physics}.{step}.root\"\n",
    "    if os.path.isfile(filename):\n",
    "        try:\n",
    "            tfile = ROOT.TFile.Open(filename)\n",
    "            ttree = tfile.Get(\"evt\")\n",
    "            num_events = int(ttree.GetEntries())\n",
    "            return (filename, num_events)\n",
    "        except:\n",
    "            pass\n",
    "    return (filename, 0)"
   ]
  },
  {
   "cell_type": "code",
   "execution_count": 4,
   "metadata": {},
   "outputs": [
    {
     "name": "stderr",
     "output_type": "stream",
     "text": [
      "[Parallel(n_jobs=-1)]: Using backend MultiprocessingBackend with 32 concurrent workers.\n",
      "[Parallel(n_jobs=-1)]: Done  10 out of  36 | elapsed:    3.0s remaining:    7.8s\n",
      "[Parallel(n_jobs=-1)]: Done  36 out of  36 | elapsed:    7.9s finished\n"
     ]
    }
   ],
   "source": [
    "evts = pd.DataFrame(\n",
    "    joblib.Parallel(n_jobs=-1, backend=\"multiprocessing\", verbose=1)(\n",
    "        joblib.delayed(processed_events)(\n",
    "            distance=distance, doubleplane=doubleplane, energy=energy, neutron=neutron, physics=physics, step=\"simu\",\n",
    "        )\n",
    "        for distance in distances\n",
    "        for doubleplane in doubleplanes\n",
    "        for energy in energies\n",
    "        for neutron in neutrons\n",
    "        for physics in physicss\n",
    "    )\n",
    ")"
   ]
  },
  {
   "cell_type": "code",
   "execution_count": 5,
   "metadata": {},
   "outputs": [
    {
     "data": {
      "text/html": [
       "<div>\n",
       "<style scoped>\n",
       "    .dataframe tbody tr th:only-of-type {\n",
       "        vertical-align: middle;\n",
       "    }\n",
       "\n",
       "    .dataframe tbody tr th {\n",
       "        vertical-align: top;\n",
       "    }\n",
       "\n",
       "    .dataframe thead th {\n",
       "        text-align: right;\n",
       "    }\n",
       "</style>\n",
       "<table border=\"1\" class=\"dataframe\">\n",
       "  <thead>\n",
       "    <tr style=\"text-align: right;\">\n",
       "      <th></th>\n",
       "      <th>File</th>\n",
       "      <th>Events</th>\n",
       "    </tr>\n",
       "  </thead>\n",
       "  <tbody>\n",
       "    <tr>\n",
       "      <th>6</th>\n",
       "      <td>output/15m_12dp_1000AMeV_1n_bert.simu.root</td>\n",
       "      <td>100000</td>\n",
       "    </tr>\n",
       "    <tr>\n",
       "      <th>7</th>\n",
       "      <td>output/15m_12dp_1000AMeV_1n_bic.simu.root</td>\n",
       "      <td>100000</td>\n",
       "    </tr>\n",
       "    <tr>\n",
       "      <th>...</th>\n",
       "      <td>...</td>\n",
       "      <td>...</td>\n",
       "    </tr>\n",
       "    <tr>\n",
       "      <th>31</th>\n",
       "      <td>output/35m_30dp_600AMeV_1n_bic.simu.root</td>\n",
       "      <td>100000</td>\n",
       "    </tr>\n",
       "    <tr>\n",
       "      <th>32</th>\n",
       "      <td>output/35m_30dp_600AMeV_1n_inclxx.simu.root</td>\n",
       "      <td>100000</td>\n",
       "    </tr>\n",
       "  </tbody>\n",
       "</table>\n",
       "<p>36 rows × 2 columns</p>\n",
       "</div>"
      ],
      "text/plain": [
       "                                           File  Events\n",
       "6    output/15m_12dp_1000AMeV_1n_bert.simu.root  100000\n",
       "7     output/15m_12dp_1000AMeV_1n_bic.simu.root  100000\n",
       "..                                          ...     ...\n",
       "31     output/35m_30dp_600AMeV_1n_bic.simu.root  100000\n",
       "32  output/35m_30dp_600AMeV_1n_inclxx.simu.root  100000\n",
       "\n",
       "[36 rows x 2 columns]"
      ]
     },
     "metadata": {},
     "output_type": "display_data"
    }
   ],
   "source": [
    "pd.options.display.max_rows = 5\n",
    "evts.columns = [\"File\", \"Events\"]\n",
    "evts.sort_values(by=[\"Events\", \"File\"], ascending=[True, True], inplace=True)\n",
    "evts.style.hide_index().format({\"Events\": \"{:d}\"})\n",
    "display(evts)"
   ]
  },
  {
   "cell_type": "code",
   "execution_count": 6,
   "metadata": {},
   "outputs": [
    {
     "name": "stderr",
     "output_type": "stream",
     "text": [
      "[Parallel(n_jobs=-1)]: Using backend MultiprocessingBackend with 32 concurrent workers.\n",
      "[Parallel(n_jobs=-1)]: Done  10 out of  36 | elapsed:    2.6s remaining:    6.7s\n",
      "[Parallel(n_jobs=-1)]: Done  36 out of  36 | elapsed:    3.9s finished\n"
     ]
    }
   ],
   "source": [
    "evts = pd.DataFrame(\n",
    "    joblib.Parallel(n_jobs=-1, backend=\"multiprocessing\", verbose=1)(\n",
    "        joblib.delayed(processed_events)(\n",
    "            distance=distance, doubleplane=doubleplane, energy=energy, neutron=neutron, physics=physics, step=\"digi\",\n",
    "        )\n",
    "        for distance in distances\n",
    "        for doubleplane in doubleplanes\n",
    "        for energy in energies\n",
    "        for neutron in neutrons\n",
    "        for physics in physicss\n",
    "    )\n",
    ")"
   ]
  },
  {
   "cell_type": "code",
   "execution_count": 7,
   "metadata": {},
   "outputs": [
    {
     "data": {
      "text/html": [
       "<div>\n",
       "<style scoped>\n",
       "    .dataframe tbody tr th:only-of-type {\n",
       "        vertical-align: middle;\n",
       "    }\n",
       "\n",
       "    .dataframe tbody tr th {\n",
       "        vertical-align: top;\n",
       "    }\n",
       "\n",
       "    .dataframe thead th {\n",
       "        text-align: right;\n",
       "    }\n",
       "</style>\n",
       "<table border=\"1\" class=\"dataframe\">\n",
       "  <thead>\n",
       "    <tr style=\"text-align: right;\">\n",
       "      <th></th>\n",
       "      <th>File</th>\n",
       "      <th>Events</th>\n",
       "    </tr>\n",
       "  </thead>\n",
       "  <tbody>\n",
       "    <tr>\n",
       "      <th>6</th>\n",
       "      <td>output/15m_12dp_1000AMeV_1n_bert.digi.root</td>\n",
       "      <td>100000</td>\n",
       "    </tr>\n",
       "    <tr>\n",
       "      <th>7</th>\n",
       "      <td>output/15m_12dp_1000AMeV_1n_bic.digi.root</td>\n",
       "      <td>100000</td>\n",
       "    </tr>\n",
       "    <tr>\n",
       "      <th>...</th>\n",
       "      <td>...</td>\n",
       "      <td>...</td>\n",
       "    </tr>\n",
       "    <tr>\n",
       "      <th>31</th>\n",
       "      <td>output/35m_30dp_600AMeV_1n_bic.digi.root</td>\n",
       "      <td>100000</td>\n",
       "    </tr>\n",
       "    <tr>\n",
       "      <th>32</th>\n",
       "      <td>output/35m_30dp_600AMeV_1n_inclxx.digi.root</td>\n",
       "      <td>100000</td>\n",
       "    </tr>\n",
       "  </tbody>\n",
       "</table>\n",
       "<p>36 rows × 2 columns</p>\n",
       "</div>"
      ],
      "text/plain": [
       "                                           File  Events\n",
       "6    output/15m_12dp_1000AMeV_1n_bert.digi.root  100000\n",
       "7     output/15m_12dp_1000AMeV_1n_bic.digi.root  100000\n",
       "..                                          ...     ...\n",
       "31     output/35m_30dp_600AMeV_1n_bic.digi.root  100000\n",
       "32  output/35m_30dp_600AMeV_1n_inclxx.digi.root  100000\n",
       "\n",
       "[36 rows x 2 columns]"
      ]
     },
     "metadata": {},
     "output_type": "display_data"
    }
   ],
   "source": [
    "pd.options.display.max_rows = 5\n",
    "evts.columns = [\"File\", \"Events\"]\n",
    "evts.sort_values(by=[\"Events\", \"File\"], ascending=[True, True], inplace=True)\n",
    "evts.style.hide_index().format({\"Events\": \"{:d}\"})\n",
    "display(evts)"
   ]
  }
 ],
 "metadata": {
  "kernelspec": {
   "display_name": "Python 3",
   "language": "python",
   "name": "python3"
  },
  "language_info": {
   "codemirror_mode": {
    "name": "ipython",
    "version": 3
   },
   "file_extension": ".py",
   "mimetype": "text/x-python",
   "name": "python",
   "nbconvert_exporter": "python",
   "pygments_lexer": "ipython3",
   "version": "3.7.6"
  }
 },
 "nbformat": 4,
 "nbformat_minor": 4
}
